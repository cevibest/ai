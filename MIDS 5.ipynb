{
 "cells": [
  {
   "cell_type": "code",
   "execution_count": 1,
   "id": "850e1df7",
   "metadata": {},
   "outputs": [
    {
     "name": "stdout",
     "output_type": "stream",
     "text": [
      "Cluster assignment for P6: 0\n",
      "Population of cluster around m2: 3\n",
      "Updated value of m1: [0.148 0.712]\n",
      "Updated value of m2: [0.24666667 0.2       ]\n"
     ]
    }
   ],
   "source": [
    "from sklearn.cluster import KMeans\n",
    "import numpy as np\n",
    "\n",
    "points = np.array([[0.1, 0.6], [0.15, 0.71], [0.08, 0.9], [0.16, 0.85], [0.2, 0.3], [0.25, 0.5], [0.24, 0.1], [0.3, 0.2]])\n",
    "\n",
    "initial_centroids = np.array([[0.1, 0.6], [0.3, 0.2]])\n",
    "\n",
    "kmeans = KMeans(n_clusters=2, init=initial_centroids, n_init=1, random_state=42)\n",
    "kmeans.fit(points)\n",
    "\n",
    "point_clusters = kmeans.labels_\n",
    "\n",
    "centroids = kmeans.cluster_centers_\n",
    "\n",
    "print(\"Cluster assignment for P6:\", point_clusters[5])  # Index 5 corresponds to P6\n",
    "print(\"Population of cluster around m2:\", np.sum(point_clusters == 1))\n",
    "print(\"Updated value of m1:\", centroids[0])\n",
    "print(\"Updated value of m2:\", centroids[1])\n"
   ]
  },
  {
   "cell_type": "code",
   "execution_count": null,
   "id": "4717b96c",
   "metadata": {},
   "outputs": [],
   "source": []
  }
 ],
 "metadata": {
  "kernelspec": {
   "display_name": "Python 3 (ipykernel)",
   "language": "python",
   "name": "python3"
  },
  "language_info": {
   "codemirror_mode": {
    "name": "ipython",
    "version": 3
   },
   "file_extension": ".py",
   "mimetype": "text/x-python",
   "name": "python",
   "nbconvert_exporter": "python",
   "pygments_lexer": "ipython3",
   "version": "3.9.7"
  }
 },
 "nbformat": 4,
 "nbformat_minor": 5
}
